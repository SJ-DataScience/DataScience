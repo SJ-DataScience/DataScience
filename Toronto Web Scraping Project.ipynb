{
    "cells": [
        {
            "cell_type": "markdown",
            "metadata": {
                "collapsed": true
            },
            "source": "# Toronto Web Scraping Code"
        },
        {
            "cell_type": "markdown",
            "metadata": {},
            "source": "## Get the Source from WikiPedia page"
        },
        {
            "cell_type": "markdown",
            "metadata": {},
            "source": "## Imports"
        },
        {
            "cell_type": "code",
            "execution_count": 33,
            "metadata": {},
            "outputs": [
                {
                    "ename": "ModuleNotFoundError",
                    "evalue": "No module named 'overpy'",
                    "output_type": "error",
                    "traceback": [
                        "\u001b[0;31m---------------------------------------------------------------------------\u001b[0m",
                        "\u001b[0;31mModuleNotFoundError\u001b[0m                       Traceback (most recent call last)",
                        "\u001b[0;32m<ipython-input-33-a897eb6142c3>\u001b[0m in \u001b[0;36m<module>\u001b[0;34m\u001b[0m\n\u001b[1;32m     15\u001b[0m \u001b[0;34m\u001b[0m\u001b[0m\n\u001b[1;32m     16\u001b[0m \u001b[0;31m# library to access overpass api in a more convenient way\u001b[0m\u001b[0;34m\u001b[0m\u001b[0;34m\u001b[0m\u001b[0;34m\u001b[0m\u001b[0m\n\u001b[0;32m---> 17\u001b[0;31m \u001b[0;32mimport\u001b[0m \u001b[0moverpy\u001b[0m\u001b[0;34m\u001b[0m\u001b[0;34m\u001b[0m\u001b[0m\n\u001b[0m\u001b[1;32m     18\u001b[0m \u001b[0;34m\u001b[0m\u001b[0m\n\u001b[1;32m     19\u001b[0m \u001b[0;31m# ipython command to use matplotlib\u001b[0m\u001b[0;34m\u001b[0m\u001b[0;34m\u001b[0m\u001b[0;34m\u001b[0m\u001b[0m\n",
                        "\u001b[0;31mModuleNotFoundError\u001b[0m: No module named 'overpy'"
                    ]
                }
            ],
            "source": "# standard computing libraries\nimport pandas as pd\nimport numpy as np\nimport json\n\n# webscraping\nfrom bs4 import BeautifulSoup\nimport requests\n\n\n# k-means clustering\nfrom sklearn.cluster import KMeans\n\n\n\n# library to access overpass api in a more convenient way\nimport overpy\n\n# ipython command to use matplotlib\n%matplotlib inline"
        },
        {
            "cell_type": "code",
            "execution_count": null,
            "metadata": {},
            "outputs": [],
            "source": "!pip install geocoder\n"
        },
        {
            "cell_type": "code",
            "execution_count": 24,
            "metadata": {},
            "outputs": [
                {
                    "ename": "ModuleNotFoundError",
                    "evalue": "No module named 'overpy'",
                    "output_type": "error",
                    "traceback": [
                        "\u001b[0;31m---------------------------------------------------------------------------\u001b[0m",
                        "\u001b[0;31mModuleNotFoundError\u001b[0m                       Traceback (most recent call last)",
                        "\u001b[0;32m<ipython-input-24-36fd50b0900b>\u001b[0m in \u001b[0;36m<module>\u001b[0;34m\u001b[0m\n\u001b[1;32m     18\u001b[0m \u001b[0;34m\u001b[0m\u001b[0m\n\u001b[1;32m     19\u001b[0m \u001b[0;31m# library to access overpass api in a more convenient way\u001b[0m\u001b[0;34m\u001b[0m\u001b[0;34m\u001b[0m\u001b[0;34m\u001b[0m\u001b[0m\n\u001b[0;32m---> 20\u001b[0;31m \u001b[0;32mimport\u001b[0m \u001b[0moverpy\u001b[0m\u001b[0;34m\u001b[0m\u001b[0;34m\u001b[0m\u001b[0m\n\u001b[0m\u001b[1;32m     21\u001b[0m \u001b[0;34m\u001b[0m\u001b[0m\n\u001b[1;32m     22\u001b[0m \u001b[0;31m# ipython command to use matplotlib\u001b[0m\u001b[0;34m\u001b[0m\u001b[0;34m\u001b[0m\u001b[0;34m\u001b[0m\u001b[0m\n",
                        "\u001b[0;31mModuleNotFoundError\u001b[0m: No module named 'overpy'"
                    ]
                }
            ],
            "source": "# standard computing libraries\nimport pandas as pd\nimport numpy as np\nimport json\n\n# webscraping\nfrom bs4 import BeautifulSoup\nimport requests\n\n# k-means clustering\nfrom sklearn.cluster import KMeans\n\n# folium for maps\nimport folium\n\n# geopandas for advanced geojson handling\nimport geopandas\n\n# library to access overpass api in a more convenient way\nimport overpy\n\n# ipython command to use matplotlib\n%matplotlib inline"
        },
        {
            "cell_type": "code",
            "execution_count": 34,
            "metadata": {},
            "outputs": [
                {
                    "name": "stdout",
                    "output_type": "stream",
                    "text": "Requirement already satisfied: folium in /opt/conda/envs/Python36/lib/python3.6/site-packages (0.10.1)\r\nRequirement already satisfied: branca>=0.3.0 in /opt/conda/envs/Python36/lib/python3.6/site-packages (from folium) (0.4.0)\r\nRequirement already satisfied: jinja2>=2.9 in /opt/conda/envs/Python36/lib/python3.6/site-packages (from folium) (2.10)\r\nRequirement already satisfied: numpy in /opt/conda/envs/Python36/lib/python3.6/site-packages (from folium) (1.15.4)\r\nRequirement already satisfied: requests in /opt/conda/envs/Python36/lib/python3.6/site-packages (from folium) (2.21.0)\r\nRequirement already satisfied: six in /opt/conda/envs/Python36/lib/python3.6/site-packages (from branca>=0.3.0->folium) (1.12.0)\r\nRequirement already satisfied: MarkupSafe>=0.23 in /opt/conda/envs/Python36/lib/python3.6/site-packages (from jinja2>=2.9->folium) (1.1.0)\r\nRequirement already satisfied: urllib3<1.25,>=1.21.1 in /opt/conda/envs/Python36/lib/python3.6/site-packages (from requests->folium) (1.24.1)\r\nRequirement already satisfied: certifi>=2017.4.17 in /opt/conda/envs/Python36/lib/python3.6/site-packages (from requests->folium) (2019.11.28)\r\nRequirement already satisfied: idna<2.9,>=2.5 in /opt/conda/envs/Python36/lib/python3.6/site-packages (from requests->folium) (2.8)\r\nRequirement already satisfied: chardet<3.1.0,>=3.0.2 in /opt/conda/envs/Python36/lib/python3.6/site-packages (from requests->folium) (3.0.4)\r\n"
                }
            ],
            "source": "! pip install folium"
        },
        {
            "cell_type": "code",
            "execution_count": 35,
            "metadata": {},
            "outputs": [],
            "source": "# ipython command to use matplotlib\n%matplotlib inline"
        },
        {
            "cell_type": "code",
            "execution_count": 36,
            "metadata": {},
            "outputs": [
                {
                    "name": "stdout",
                    "output_type": "stream",
                    "text": "Requirement already satisfied: geopandas in /opt/conda/envs/Python36/lib/python3.6/site-packages (0.7.0)\nRequirement already satisfied: fiona in /opt/conda/envs/Python36/lib/python3.6/site-packages (from geopandas) (1.8.13.post1)\nRequirement already satisfied: pandas>=0.23.0 in /opt/conda/envs/Python36/lib/python3.6/site-packages (from geopandas) (0.24.1)\nRequirement already satisfied: pyproj>=2.2.0 in /opt/conda/envs/Python36/lib/python3.6/site-packages (from geopandas) (2.6.0)\nRequirement already satisfied: shapely in /opt/conda/envs/Python36/lib/python3.6/site-packages (from geopandas) (1.7.0)\nRequirement already satisfied: click-plugins>=1.0 in /opt/conda/envs/Python36/lib/python3.6/site-packages (from fiona->geopandas) (1.1.1)\nRequirement already satisfied: click<8,>=4.0 in /opt/conda/envs/Python36/lib/python3.6/site-packages (from fiona->geopandas) (7.0)\nRequirement already satisfied: cligj>=0.5 in /opt/conda/envs/Python36/lib/python3.6/site-packages (from fiona->geopandas) (0.5.0)\nRequirement already satisfied: attrs>=17 in /opt/conda/envs/Python36/lib/python3.6/site-packages (from fiona->geopandas) (18.2.0)\nRequirement already satisfied: six>=1.7 in /opt/conda/envs/Python36/lib/python3.6/site-packages (from fiona->geopandas) (1.12.0)\nRequirement already satisfied: munch in /opt/conda/envs/Python36/lib/python3.6/site-packages (from fiona->geopandas) (2.5.0)\nRequirement already satisfied: pytz>=2011k in /opt/conda/envs/Python36/lib/python3.6/site-packages (from pandas>=0.23.0->geopandas) (2018.9)\nRequirement already satisfied: python-dateutil>=2.5.0 in /opt/conda/envs/Python36/lib/python3.6/site-packages (from pandas>=0.23.0->geopandas) (2.7.5)\nRequirement already satisfied: numpy>=1.12.0 in /opt/conda/envs/Python36/lib/python3.6/site-packages (from pandas>=0.23.0->geopandas) (1.15.4)\n"
                }
            ],
            "source": "! pip install geopandas"
        },
        {
            "cell_type": "code",
            "execution_count": 37,
            "metadata": {},
            "outputs": [],
            "source": "postcode = requests.get(\"https://en.wikipedia.org/wiki/List_of_postal_codes_of_Canada:_M\")"
        },
        {
            "cell_type": "code",
            "execution_count": 38,
            "metadata": {},
            "outputs": [],
            "source": "\npostcodesoup = BeautifulSoup(postcode.content)"
        },
        {
            "cell_type": "code",
            "execution_count": 39,
            "metadata": {},
            "outputs": [],
            "source": "list_postcodes = list()\n\nfor tr in postcodesoup.find_all(\"tr\")[2:-5]:\n    \n    row = (td.text for td in tr.find_all(\"td\"))\n    \n    list_postcodes.append(row)"
        },
        {
            "cell_type": "markdown",
            "metadata": {},
            "source": "## use pandas to read the table into a pandas dataframe."
        },
        {
            "cell_type": "code",
            "execution_count": 40,
            "metadata": {},
            "outputs": [],
            "source": "\ndf_raw = pd.DataFrame(list_postcodes, columns=[\"Postcode\",\"Borough\",\"Neighbourhood\"])"
        },
        {
            "cell_type": "code",
            "execution_count": 41,
            "metadata": {},
            "outputs": [],
            "source": "def concatNeighbourhood(row):\n    \n    return pd.Series(dict(Borough = row['Borough'].unique()[0],\n                        Neighbourhood = ', '.join(row['Neighbourhood'])))"
        },
        {
            "cell_type": "code",
            "execution_count": 42,
            "metadata": {},
            "outputs": [
                {
                    "data": {
                        "text/html": "<div>\n<style scoped>\n    .dataframe tbody tr th:only-of-type {\n        vertical-align: middle;\n    }\n\n    .dataframe tbody tr th {\n        vertical-align: top;\n    }\n\n    .dataframe thead th {\n        text-align: right;\n    }\n</style>\n<table border=\"1\" class=\"dataframe\">\n  <thead>\n    <tr style=\"text-align: right;\">\n      <th></th>\n      <th>Postcode</th>\n      <th>Borough</th>\n      <th>Neighbourhood</th>\n    </tr>\n  </thead>\n  <tbody>\n    <tr>\n      <th>0</th>\n      <td>M1B\\n</td>\n      <td>Scarborough\\n</td>\n      <td>Malvern / Rouge</td>\n    </tr>\n    <tr>\n      <th>1</th>\n      <td>M1C\\n</td>\n      <td>Scarborough\\n</td>\n      <td>Rouge Hill / Port Union / Highland Creek</td>\n    </tr>\n    <tr>\n      <th>2</th>\n      <td>M1E\\n</td>\n      <td>Scarborough\\n</td>\n      <td>Guildwood / Morningside / West Hill</td>\n    </tr>\n    <tr>\n      <th>3</th>\n      <td>M1G\\n</td>\n      <td>Scarborough\\n</td>\n      <td>Woburn</td>\n    </tr>\n    <tr>\n      <th>4</th>\n      <td>M1H\\n</td>\n      <td>Scarborough\\n</td>\n      <td>Cedarbrae</td>\n    </tr>\n  </tbody>\n</table>\n</div>",
                        "text/plain": "  Postcode        Borough                             Neighbourhood\n0    M1B\\n  Scarborough\\n                           Malvern / Rouge\n1    M1C\\n  Scarborough\\n  Rouge Hill / Port Union / Highland Creek\n2    M1E\\n  Scarborough\\n       Guildwood / Morningside / West Hill\n3    M1G\\n  Scarborough\\n                                    Woburn\n4    M1H\\n  Scarborough\\n                                 Cedarbrae"
                    },
                    "execution_count": 42,
                    "metadata": {},
                    "output_type": "execute_result"
                }
            ],
            "source": "df_post = (df_raw\n            .query('Borough != \"Not assigned\"')\n            .assign(Neighbourhood = lambda x: x[\"Neighbourhood\"].str[:-1].replace('Not assigned', x[\"Borough\"]))\n            .groupby('Postcode').apply(concatNeighbourhood)\n            .reset_index()\n)\n\ndf_post.head()"
        },
        {
            "cell_type": "code",
            "execution_count": 43,
            "metadata": {},
            "outputs": [
                {
                    "data": {
                        "text/plain": "(178, 3)"
                    },
                    "execution_count": 43,
                    "metadata": {},
                    "output_type": "execute_result"
                }
            ],
            "source": "df_post.shape"
        },
        {
            "cell_type": "code",
            "execution_count": 44,
            "metadata": {},
            "outputs": [
                {
                    "data": {
                        "text/html": "<div>\n<style scoped>\n    .dataframe tbody tr th:only-of-type {\n        vertical-align: middle;\n    }\n\n    .dataframe tbody tr th {\n        vertical-align: top;\n    }\n\n    .dataframe thead th {\n        text-align: right;\n    }\n</style>\n<table border=\"1\" class=\"dataframe\">\n  <thead>\n    <tr style=\"text-align: right;\">\n      <th></th>\n      <th>Postcode</th>\n      <th>Borough</th>\n      <th>Neighbourhood</th>\n    </tr>\n  </thead>\n  <tbody>\n    <tr>\n      <th>0</th>\n      <td>M1B\\n</td>\n      <td>Scarborough\\n</td>\n      <td>Malvern / Rouge</td>\n    </tr>\n    <tr>\n      <th>1</th>\n      <td>M1C\\n</td>\n      <td>Scarborough\\n</td>\n      <td>Rouge Hill / Port Union / Highland Creek</td>\n    </tr>\n    <tr>\n      <th>2</th>\n      <td>M1E\\n</td>\n      <td>Scarborough\\n</td>\n      <td>Guildwood / Morningside / West Hill</td>\n    </tr>\n    <tr>\n      <th>3</th>\n      <td>M1G\\n</td>\n      <td>Scarborough\\n</td>\n      <td>Woburn</td>\n    </tr>\n    <tr>\n      <th>4</th>\n      <td>M1H\\n</td>\n      <td>Scarborough\\n</td>\n      <td>Cedarbrae</td>\n    </tr>\n    <tr>\n      <th>5</th>\n      <td>M1J\\n</td>\n      <td>Scarborough\\n</td>\n      <td>Scarborough Village</td>\n    </tr>\n    <tr>\n      <th>6</th>\n      <td>M1K\\n</td>\n      <td>Scarborough\\n</td>\n      <td>Kennedy Park / Ionview / East Birchmount Park</td>\n    </tr>\n    <tr>\n      <th>7</th>\n      <td>M1L\\n</td>\n      <td>Scarborough\\n</td>\n      <td>Golden Mile / Clairlea / Oakridge</td>\n    </tr>\n    <tr>\n      <th>8</th>\n      <td>M1M\\n</td>\n      <td>Scarborough\\n</td>\n      <td>Cliffside / Cliffcrest / Scarborough Village West</td>\n    </tr>\n    <tr>\n      <th>9</th>\n      <td>M1N\\n</td>\n      <td>Scarborough\\n</td>\n      <td>Birch Cliff / Cliffside West</td>\n    </tr>\n    <tr>\n      <th>10</th>\n      <td>M1P\\n</td>\n      <td>Scarborough\\n</td>\n      <td>Dorset Park / Wexford Heights / Scarborough Town Centre</td>\n    </tr>\n    <tr>\n      <th>11</th>\n      <td>M1R\\n</td>\n      <td>Scarborough\\n</td>\n      <td>Wexford / Maryvale</td>\n    </tr>\n    <tr>\n      <th>12</th>\n      <td>M1S\\n</td>\n      <td>Scarborough\\n</td>\n      <td>Agincourt</td>\n    </tr>\n    <tr>\n      <th>13</th>\n      <td>M1T\\n</td>\n      <td>Scarborough\\n</td>\n      <td>Clarks Corners / Tam O'Shanter / Sullivan</td>\n    </tr>\n    <tr>\n      <th>14</th>\n      <td>M1V\\n</td>\n      <td>Scarborough\\n</td>\n      <td>Milliken / Agincourt North / Steeles East / L'Amoreaux East</td>\n    </tr>\n    <tr>\n      <th>15</th>\n      <td>M1W\\n</td>\n      <td>Scarborough\\n</td>\n      <td>Steeles West / L'Amoreaux West</td>\n    </tr>\n    <tr>\n      <th>16</th>\n      <td>M1X\\n</td>\n      <td>Scarborough\\n</td>\n      <td>Upper Rouge</td>\n    </tr>\n    <tr>\n      <th>17</th>\n      <td>M1Y\\n</td>\n      <td>Not assigned\\n</td>\n      <td></td>\n    </tr>\n    <tr>\n      <th>18</th>\n      <td>M1Z\\n</td>\n      <td>Not assigned\\n</td>\n      <td></td>\n    </tr>\n    <tr>\n      <th>19</th>\n      <td>M2A\\n</td>\n      <td>Not assigned\\n</td>\n      <td></td>\n    </tr>\n    <tr>\n      <th>20</th>\n      <td>M2B\\n</td>\n      <td>Not assigned\\n</td>\n      <td></td>\n    </tr>\n    <tr>\n      <th>21</th>\n      <td>M2C\\n</td>\n      <td>Not assigned\\n</td>\n      <td></td>\n    </tr>\n    <tr>\n      <th>22</th>\n      <td>M2E\\n</td>\n      <td>Not assigned\\n</td>\n      <td></td>\n    </tr>\n    <tr>\n      <th>23</th>\n      <td>M2G\\n</td>\n      <td>Not assigned\\n</td>\n      <td></td>\n    </tr>\n    <tr>\n      <th>24</th>\n      <td>M2H\\n</td>\n      <td>North York\\n</td>\n      <td>Hillcrest Village</td>\n    </tr>\n    <tr>\n      <th>25</th>\n      <td>M2J\\n</td>\n      <td>North York\\n</td>\n      <td>Fairview / Henry Farm / Oriole</td>\n    </tr>\n    <tr>\n      <th>26</th>\n      <td>M2K\\n</td>\n      <td>North York\\n</td>\n      <td>Bayview Village</td>\n    </tr>\n    <tr>\n      <th>27</th>\n      <td>M2L\\n</td>\n      <td>North York\\n</td>\n      <td>York Mills / Silver Hills</td>\n    </tr>\n    <tr>\n      <th>28</th>\n      <td>M2M\\n</td>\n      <td>North York\\n</td>\n      <td>Willowdale / Newtonbrook</td>\n    </tr>\n    <tr>\n      <th>29</th>\n      <td>M2N\\n</td>\n      <td>North York\\n</td>\n      <td>Willowdale</td>\n    </tr>\n  </tbody>\n</table>\n</div>",
                        "text/plain": "   Postcode         Borough  \\\n0     M1B\\n   Scarborough\\n   \n1     M1C\\n   Scarborough\\n   \n2     M1E\\n   Scarborough\\n   \n3     M1G\\n   Scarborough\\n   \n4     M1H\\n   Scarborough\\n   \n5     M1J\\n   Scarborough\\n   \n6     M1K\\n   Scarborough\\n   \n7     M1L\\n   Scarborough\\n   \n8     M1M\\n   Scarborough\\n   \n9     M1N\\n   Scarborough\\n   \n10    M1P\\n   Scarborough\\n   \n11    M1R\\n   Scarborough\\n   \n12    M1S\\n   Scarborough\\n   \n13    M1T\\n   Scarborough\\n   \n14    M1V\\n   Scarborough\\n   \n15    M1W\\n   Scarborough\\n   \n16    M1X\\n   Scarborough\\n   \n17    M1Y\\n  Not assigned\\n   \n18    M1Z\\n  Not assigned\\n   \n19    M2A\\n  Not assigned\\n   \n20    M2B\\n  Not assigned\\n   \n21    M2C\\n  Not assigned\\n   \n22    M2E\\n  Not assigned\\n   \n23    M2G\\n  Not assigned\\n   \n24    M2H\\n    North York\\n   \n25    M2J\\n    North York\\n   \n26    M2K\\n    North York\\n   \n27    M2L\\n    North York\\n   \n28    M2M\\n    North York\\n   \n29    M2N\\n    North York\\n   \n\n                                                  Neighbourhood  \n0                                               Malvern / Rouge  \n1                      Rouge Hill / Port Union / Highland Creek  \n2                           Guildwood / Morningside / West Hill  \n3                                                        Woburn  \n4                                                     Cedarbrae  \n5                                           Scarborough Village  \n6                 Kennedy Park / Ionview / East Birchmount Park  \n7                             Golden Mile / Clairlea / Oakridge  \n8             Cliffside / Cliffcrest / Scarborough Village West  \n9                                  Birch Cliff / Cliffside West  \n10      Dorset Park / Wexford Heights / Scarborough Town Centre  \n11                                           Wexford / Maryvale  \n12                                                    Agincourt  \n13                    Clarks Corners / Tam O'Shanter / Sullivan  \n14  Milliken / Agincourt North / Steeles East / L'Amoreaux East  \n15                               Steeles West / L'Amoreaux West  \n16                                                  Upper Rouge  \n17                                                               \n18                                                               \n19                                                               \n20                                                               \n21                                                               \n22                                                               \n23                                                               \n24                                            Hillcrest Village  \n25                               Fairview / Henry Farm / Oriole  \n26                                              Bayview Village  \n27                                    York Mills / Silver Hills  \n28                                     Willowdale / Newtonbrook  \n29                                                   Willowdale  "
                    },
                    "execution_count": 44,
                    "metadata": {},
                    "output_type": "execute_result"
                }
            ],
            "source": "df_post.head(30)"
        },
        {
            "cell_type": "code",
            "execution_count": 46,
            "metadata": {},
            "outputs": [
                {
                    "data": {
                        "text/plain": "(178, 3)"
                    },
                    "execution_count": 46,
                    "metadata": {},
                    "output_type": "execute_result"
                }
            ],
            "source": "df_post.shape"
        },
        {
            "cell_type": "markdown",
            "metadata": {},
            "source": "##  Getting the Latitude and Longitude "
        },
        {
            "cell_type": "code",
            "execution_count": 47,
            "metadata": {},
            "outputs": [],
            "source": "\n#postal_code = 'M5G'\n\n# initialize your variable to None\n#lat_lng_coords = None\n\n# loop until you get the coordinates\n#while(lat_lng_coords is None):\n#  g = geocoder.google('{}, Toronto, Ontario'.format(postal_code))\n#  lat_lng_coords = g.latlng\n\n#latitude = lat_lng_coords[0]\n#longitude = lat_lng_coords[1]"
        },
        {
            "cell_type": "code",
            "execution_count": 53,
            "metadata": {},
            "outputs": [
                {
                    "ename": "ModuleNotFoundError",
                    "evalue": "No module named 'panda'",
                    "output_type": "error",
                    "traceback": [
                        "\u001b[0;31m---------------------------------------------------------------------------\u001b[0m",
                        "\u001b[0;31mModuleNotFoundError\u001b[0m                       Traceback (most recent call last)",
                        "\u001b[0;32m<ipython-input-53-f542dbfa5144>\u001b[0m in \u001b[0;36m<module>\u001b[0;34m\u001b[0m\n\u001b[0;32m----> 1\u001b[0;31m \u001b[0;32mimport\u001b[0m \u001b[0mpanda\u001b[0m \u001b[0;32mas\u001b[0m \u001b[0mpd\u001b[0m\u001b[0;34m\u001b[0m\u001b[0;34m\u001b[0m\u001b[0m\n\u001b[0m",
                        "\u001b[0;31mModuleNotFoundError\u001b[0m: No module named 'panda'"
                    ]
                }
            ],
            "source": "import panda as pd\n"
        },
        {
            "cell_type": "code",
            "execution_count": 54,
            "metadata": {},
            "outputs": [],
            "source": "import pandas as pd\n"
        },
        {
            "cell_type": "code",
            "execution_count": 56,
            "metadata": {},
            "outputs": [],
            "source": "import pandas as pd"
        },
        {
            "cell_type": "code",
            "execution_count": 57,
            "metadata": {},
            "outputs": [],
            "source": "csv_path = 'http://cocl.us/Geospatial_data'"
        },
        {
            "cell_type": "code",
            "execution_count": 58,
            "metadata": {},
            "outputs": [],
            "source": "data = pd.read_csv(csv_path)"
        },
        {
            "cell_type": "code",
            "execution_count": 59,
            "metadata": {},
            "outputs": [
                {
                    "data": {
                        "text/html": "<div>\n<style scoped>\n    .dataframe tbody tr th:only-of-type {\n        vertical-align: middle;\n    }\n\n    .dataframe tbody tr th {\n        vertical-align: top;\n    }\n\n    .dataframe thead th {\n        text-align: right;\n    }\n</style>\n<table border=\"1\" class=\"dataframe\">\n  <thead>\n    <tr style=\"text-align: right;\">\n      <th></th>\n      <th>Postal Code</th>\n      <th>Latitude</th>\n      <th>Longitude</th>\n    </tr>\n  </thead>\n  <tbody>\n    <tr>\n      <th>0</th>\n      <td>M1B</td>\n      <td>43.806686</td>\n      <td>-79.194353</td>\n    </tr>\n    <tr>\n      <th>1</th>\n      <td>M1C</td>\n      <td>43.784535</td>\n      <td>-79.160497</td>\n    </tr>\n    <tr>\n      <th>2</th>\n      <td>M1E</td>\n      <td>43.763573</td>\n      <td>-79.188711</td>\n    </tr>\n    <tr>\n      <th>3</th>\n      <td>M1G</td>\n      <td>43.770992</td>\n      <td>-79.216917</td>\n    </tr>\n    <tr>\n      <th>4</th>\n      <td>M1H</td>\n      <td>43.773136</td>\n      <td>-79.239476</td>\n    </tr>\n  </tbody>\n</table>\n</div>",
                        "text/plain": "  Postal Code   Latitude  Longitude\n0         M1B  43.806686 -79.194353\n1         M1C  43.784535 -79.160497\n2         M1E  43.763573 -79.188711\n3         M1G  43.770992 -79.216917\n4         M1H  43.773136 -79.239476"
                    },
                    "execution_count": 59,
                    "metadata": {},
                    "output_type": "execute_result"
                }
            ],
            "source": "data.head()"
        },
        {
            "cell_type": "code",
            "execution_count": 60,
            "metadata": {},
            "outputs": [
                {
                    "data": {
                        "text/html": "<div>\n<style scoped>\n    .dataframe tbody tr th:only-of-type {\n        vertical-align: middle;\n    }\n\n    .dataframe tbody tr th {\n        vertical-align: top;\n    }\n\n    .dataframe thead th {\n        text-align: right;\n    }\n</style>\n<table border=\"1\" class=\"dataframe\">\n  <thead>\n    <tr style=\"text-align: right;\">\n      <th></th>\n      <th>PostalCode</th>\n      <th>Borough</th>\n      <th>Neighbourhood</th>\n      <th>Latitude</th>\n      <th>Longitude</th>\n    </tr>\n  </thead>\n  <tbody>\n  </tbody>\n</table>\n</div>",
                        "text/plain": "Empty DataFrame\nColumns: [PostalCode, Borough, Neighbourhood, Latitude, Longitude]\nIndex: []"
                    },
                    "execution_count": 60,
                    "metadata": {},
                    "output_type": "execute_result"
                }
            ],
            "source": "\ndf_post_coord = (pd.merge(df_post, data , left_on=\"Postcode\", right_on=\"Postal Code\")\n                   .drop(\"Postal Code\", axis=1)\n                   .rename(columns={\"Postcode\":\"PostalCode\"}))\n\ndf_post_coord.head()"
        },
        {
            "cell_type": "code",
            "execution_count": 61,
            "metadata": {},
            "outputs": [
                {
                    "data": {
                        "text/html": "<div>\n<style scoped>\n    .dataframe tbody tr th:only-of-type {\n        vertical-align: middle;\n    }\n\n    .dataframe tbody tr th {\n        vertical-align: top;\n    }\n\n    .dataframe thead th {\n        text-align: right;\n    }\n</style>\n<table border=\"1\" class=\"dataframe\">\n  <thead>\n    <tr style=\"text-align: right;\">\n      <th></th>\n      <th>PostalCode</th>\n      <th>Borough</th>\n      <th>Neighbourhood</th>\n      <th>Latitude</th>\n      <th>Longitude</th>\n    </tr>\n  </thead>\n  <tbody>\n  </tbody>\n</table>\n</div>",
                        "text/plain": "Empty DataFrame\nColumns: [PostalCode, Borough, Neighbourhood, Latitude, Longitude]\nIndex: []"
                    },
                    "execution_count": 61,
                    "metadata": {},
                    "output_type": "execute_result"
                }
            ],
            "source": "df_post_coord.head(20)"
        },
        {
            "cell_type": "code",
            "execution_count": 63,
            "metadata": {},
            "outputs": [
                {
                    "data": {
                        "text/html": "<div>\n<style scoped>\n    .dataframe tbody tr th:only-of-type {\n        vertical-align: middle;\n    }\n\n    .dataframe tbody tr th {\n        vertical-align: top;\n    }\n\n    .dataframe thead th {\n        text-align: right;\n    }\n</style>\n<table border=\"1\" class=\"dataframe\">\n  <thead>\n    <tr style=\"text-align: right;\">\n      <th></th>\n      <th>Postcode</th>\n      <th>Borough</th>\n      <th>Neighbourhood</th>\n    </tr>\n  </thead>\n  <tbody>\n    <tr>\n      <th>0</th>\n      <td>M1B\\n</td>\n      <td>Scarborough\\n</td>\n      <td>Malvern / Rouge</td>\n    </tr>\n    <tr>\n      <th>1</th>\n      <td>M1C\\n</td>\n      <td>Scarborough\\n</td>\n      <td>Rouge Hill / Port Union / Highland Creek</td>\n    </tr>\n    <tr>\n      <th>2</th>\n      <td>M1E\\n</td>\n      <td>Scarborough\\n</td>\n      <td>Guildwood / Morningside / West Hill</td>\n    </tr>\n    <tr>\n      <th>3</th>\n      <td>M1G\\n</td>\n      <td>Scarborough\\n</td>\n      <td>Woburn</td>\n    </tr>\n    <tr>\n      <th>4</th>\n      <td>M1H\\n</td>\n      <td>Scarborough\\n</td>\n      <td>Cedarbrae</td>\n    </tr>\n  </tbody>\n</table>\n</div>",
                        "text/plain": "  Postcode        Borough                             Neighbourhood\n0    M1B\\n  Scarborough\\n                           Malvern / Rouge\n1    M1C\\n  Scarborough\\n  Rouge Hill / Port Union / Highland Creek\n2    M1E\\n  Scarborough\\n       Guildwood / Morningside / West Hill\n3    M1G\\n  Scarborough\\n                                    Woburn\n4    M1H\\n  Scarborough\\n                                 Cedarbrae"
                    },
                    "execution_count": 63,
                    "metadata": {},
                    "output_type": "execute_result"
                }
            ],
            "source": "df_post = (df_raw\n            .query('Borough != \"Not assigned\"')\n            .assign(Neighbourhood = lambda x: x[\"Neighbourhood\"].str[:-1].replace('Not assigned', x[\"Borough\"]))\n            .groupby('Postcode').apply(concatNeighbourhood)\n            .reset_index()\n)\n\ndf_post.head()"
        },
        {
            "cell_type": "code",
            "execution_count": 64,
            "metadata": {},
            "outputs": [
                {
                    "data": {
                        "text/html": "<div>\n<style scoped>\n    .dataframe tbody tr th:only-of-type {\n        vertical-align: middle;\n    }\n\n    .dataframe tbody tr th {\n        vertical-align: top;\n    }\n\n    .dataframe thead th {\n        text-align: right;\n    }\n</style>\n<table border=\"1\" class=\"dataframe\">\n  <thead>\n    <tr style=\"text-align: right;\">\n      <th></th>\n      <th>PostalCode</th>\n      <th>Borough</th>\n      <th>Neighbourhood</th>\n      <th>Latitude</th>\n      <th>Longitude</th>\n    </tr>\n  </thead>\n  <tbody>\n  </tbody>\n</table>\n</div>",
                        "text/plain": "Empty DataFrame\nColumns: [PostalCode, Borough, Neighbourhood, Latitude, Longitude]\nIndex: []"
                    },
                    "execution_count": 64,
                    "metadata": {},
                    "output_type": "execute_result"
                }
            ],
            "source": "\ndf_post_coord = (pd.merge(df_post, data , left_on=\"Postcode\", right_on=\"Postal Code\")\n                   .drop(\"Postal Code\", axis=1)\n                   .rename(columns={\"Postcode\":\"PostalCode\"}))\n\ndf_post_coord.head()"
        },
        {
            "cell_type": "code",
            "execution_count": 65,
            "metadata": {},
            "outputs": [
                {
                    "data": {
                        "text/html": "<div>\n<style scoped>\n    .dataframe tbody tr th:only-of-type {\n        vertical-align: middle;\n    }\n\n    .dataframe tbody tr th {\n        vertical-align: top;\n    }\n\n    .dataframe thead th {\n        text-align: right;\n    }\n</style>\n<table border=\"1\" class=\"dataframe\">\n  <thead>\n    <tr style=\"text-align: right;\">\n      <th></th>\n      <th>PostalCode</th>\n      <th>Borough</th>\n      <th>Neighbourhood</th>\n      <th>Latitude</th>\n      <th>Longitude</th>\n    </tr>\n  </thead>\n  <tbody>\n  </tbody>\n</table>\n</div>",
                        "text/plain": "Empty DataFrame\nColumns: [PostalCode, Borough, Neighbourhood, Latitude, Longitude]\nIndex: []"
                    },
                    "execution_count": 65,
                    "metadata": {},
                    "output_type": "execute_result"
                }
            ],
            "source": "df_post_coord.head(10)"
        },
        {
            "cell_type": "code",
            "execution_count": 66,
            "metadata": {},
            "outputs": [
                {
                    "data": {
                        "text/html": "<div>\n<style scoped>\n    .dataframe tbody tr th:only-of-type {\n        vertical-align: middle;\n    }\n\n    .dataframe tbody tr th {\n        vertical-align: top;\n    }\n\n    .dataframe thead th {\n        text-align: right;\n    }\n</style>\n<table border=\"1\" class=\"dataframe\">\n  <thead>\n    <tr style=\"text-align: right;\">\n      <th></th>\n      <th>Postcode</th>\n      <th>Borough</th>\n      <th>Neighbourhood</th>\n    </tr>\n  </thead>\n  <tbody>\n    <tr>\n      <th>0</th>\n      <td>M1B\\n</td>\n      <td>Scarborough\\n</td>\n      <td>Malvern / Rouge</td>\n    </tr>\n    <tr>\n      <th>1</th>\n      <td>M1C\\n</td>\n      <td>Scarborough\\n</td>\n      <td>Rouge Hill / Port Union / Highland Creek</td>\n    </tr>\n    <tr>\n      <th>2</th>\n      <td>M1E\\n</td>\n      <td>Scarborough\\n</td>\n      <td>Guildwood / Morningside / West Hill</td>\n    </tr>\n    <tr>\n      <th>3</th>\n      <td>M1G\\n</td>\n      <td>Scarborough\\n</td>\n      <td>Woburn</td>\n    </tr>\n    <tr>\n      <th>4</th>\n      <td>M1H\\n</td>\n      <td>Scarborough\\n</td>\n      <td>Cedarbrae</td>\n    </tr>\n  </tbody>\n</table>\n</div>",
                        "text/plain": "  Postcode        Borough                             Neighbourhood\n0    M1B\\n  Scarborough\\n                           Malvern / Rouge\n1    M1C\\n  Scarborough\\n  Rouge Hill / Port Union / Highland Creek\n2    M1E\\n  Scarborough\\n       Guildwood / Morningside / West Hill\n3    M1G\\n  Scarborough\\n                                    Woburn\n4    M1H\\n  Scarborough\\n                                 Cedarbrae"
                    },
                    "execution_count": 66,
                    "metadata": {},
                    "output_type": "execute_result"
                }
            ],
            "source": "df_post.head()"
        },
        {
            "cell_type": "code",
            "execution_count": 67,
            "metadata": {},
            "outputs": [
                {
                    "data": {
                        "text/html": "<div>\n<style scoped>\n    .dataframe tbody tr th:only-of-type {\n        vertical-align: middle;\n    }\n\n    .dataframe tbody tr th {\n        vertical-align: top;\n    }\n\n    .dataframe thead th {\n        text-align: right;\n    }\n</style>\n<table border=\"1\" class=\"dataframe\">\n  <thead>\n    <tr style=\"text-align: right;\">\n      <th></th>\n      <th>Postal Code</th>\n      <th>Latitude</th>\n      <th>Longitude</th>\n    </tr>\n  </thead>\n  <tbody>\n    <tr>\n      <th>0</th>\n      <td>M1B</td>\n      <td>43.806686</td>\n      <td>-79.194353</td>\n    </tr>\n    <tr>\n      <th>1</th>\n      <td>M1C</td>\n      <td>43.784535</td>\n      <td>-79.160497</td>\n    </tr>\n    <tr>\n      <th>2</th>\n      <td>M1E</td>\n      <td>43.763573</td>\n      <td>-79.188711</td>\n    </tr>\n    <tr>\n      <th>3</th>\n      <td>M1G</td>\n      <td>43.770992</td>\n      <td>-79.216917</td>\n    </tr>\n    <tr>\n      <th>4</th>\n      <td>M1H</td>\n      <td>43.773136</td>\n      <td>-79.239476</td>\n    </tr>\n  </tbody>\n</table>\n</div>",
                        "text/plain": "  Postal Code   Latitude  Longitude\n0         M1B  43.806686 -79.194353\n1         M1C  43.784535 -79.160497\n2         M1E  43.763573 -79.188711\n3         M1G  43.770992 -79.216917\n4         M1H  43.773136 -79.239476"
                    },
                    "execution_count": 67,
                    "metadata": {},
                    "output_type": "execute_result"
                }
            ],
            "source": "data.head()"
        },
        {
            "cell_type": "code",
            "execution_count": 68,
            "metadata": {},
            "outputs": [
                {
                    "ename": "NameError",
                    "evalue": "name 'df_coord' is not defined",
                    "output_type": "error",
                    "traceback": [
                        "\u001b[0;31m---------------------------------------------------------------------------\u001b[0m",
                        "\u001b[0;31mNameError\u001b[0m                                 Traceback (most recent call last)",
                        "\u001b[0;32m<ipython-input-68-a47d29374774>\u001b[0m in \u001b[0;36m<module>\u001b[0;34m\u001b[0m\n\u001b[0;32m----> 1\u001b[0;31m df_post_coord = (pd.merge(df_post, df_coord, left_on=\"Postcode\", right_on=\"Postal Code\")\n\u001b[0m\u001b[1;32m      2\u001b[0m                    \u001b[0;34m.\u001b[0m\u001b[0mdrop\u001b[0m\u001b[0;34m(\u001b[0m\u001b[0;34m\"Postal Code\"\u001b[0m\u001b[0;34m,\u001b[0m \u001b[0maxis\u001b[0m\u001b[0;34m=\u001b[0m\u001b[0;36m1\u001b[0m\u001b[0;34m)\u001b[0m\u001b[0;34m\u001b[0m\u001b[0;34m\u001b[0m\u001b[0m\n\u001b[1;32m      3\u001b[0m                    .rename(columns={\"Postcode\":\"PostalCode\"}))\n\u001b[1;32m      4\u001b[0m \u001b[0;34m\u001b[0m\u001b[0m\n\u001b[1;32m      5\u001b[0m \u001b[0mdf_post_coord\u001b[0m\u001b[0;34m.\u001b[0m\u001b[0mhead\u001b[0m\u001b[0;34m(\u001b[0m\u001b[0;34m)\u001b[0m\u001b[0;34m\u001b[0m\u001b[0;34m\u001b[0m\u001b[0m\n",
                        "\u001b[0;31mNameError\u001b[0m: name 'df_coord' is not defined"
                    ]
                }
            ],
            "source": "df_post_coord = (pd.merge(df_post, df_coord, left_on=\"Postcode\", right_on=\"Postal Code\")\n                   .drop(\"Postal Code\", axis=1)\n                   .rename(columns={\"Postcode\":\"PostalCode\"}))\n\ndf_post_coord.head()"
        },
        {
            "cell_type": "code",
            "execution_count": 69,
            "metadata": {},
            "outputs": [
                {
                    "data": {
                        "text/html": "<div>\n<style scoped>\n    .dataframe tbody tr th:only-of-type {\n        vertical-align: middle;\n    }\n\n    .dataframe tbody tr th {\n        vertical-align: top;\n    }\n\n    .dataframe thead th {\n        text-align: right;\n    }\n</style>\n<table border=\"1\" class=\"dataframe\">\n  <thead>\n    <tr style=\"text-align: right;\">\n      <th></th>\n      <th>PostalCode</th>\n      <th>Borough</th>\n      <th>Neighbourhood</th>\n      <th>Latitude</th>\n      <th>Longitude</th>\n    </tr>\n  </thead>\n  <tbody>\n  </tbody>\n</table>\n</div>",
                        "text/plain": "Empty DataFrame\nColumns: [PostalCode, Borough, Neighbourhood, Latitude, Longitude]\nIndex: []"
                    },
                    "execution_count": 69,
                    "metadata": {},
                    "output_type": "execute_result"
                }
            ],
            "source": "df_post_coord = (pd.merge(df_post, data, left_on=\"Postcode\", right_on=\"Postal Code\")\n                   .drop(\"Postal Code\", axis=1)\n                   .rename(columns={\"Postcode\":\"PostalCode\"}))\n\ndf_post_coord.head()"
        },
        {
            "cell_type": "code",
            "execution_count": 70,
            "metadata": {},
            "outputs": [
                {
                    "data": {
                        "text/plain": "(0, 5)"
                    },
                    "execution_count": 70,
                    "metadata": {},
                    "output_type": "execute_result"
                }
            ],
            "source": "\ndf_toronto = df_post_coord[df_post_coord['Borough'].str.contains('Toronto')]\n\ndf_toronto.shape"
        },
        {
            "cell_type": "code",
            "execution_count": 71,
            "metadata": {},
            "outputs": [
                {
                    "data": {
                        "text/html": "<div>\n<style scoped>\n    .dataframe tbody tr th:only-of-type {\n        vertical-align: middle;\n    }\n\n    .dataframe tbody tr th {\n        vertical-align: top;\n    }\n\n    .dataframe thead th {\n        text-align: right;\n    }\n</style>\n<table border=\"1\" class=\"dataframe\">\n  <thead>\n    <tr style=\"text-align: right;\">\n      <th></th>\n      <th>Postcode</th>\n      <th>Borough</th>\n      <th>Neighbourhood</th>\n      <th>Postal Code</th>\n      <th>Latitude</th>\n      <th>Longitude</th>\n    </tr>\n  </thead>\n  <tbody>\n  </tbody>\n</table>\n</div>",
                        "text/plain": "Empty DataFrame\nColumns: [Postcode, Borough, Neighbourhood, Postal Code, Latitude, Longitude]\nIndex: []"
                    },
                    "execution_count": 71,
                    "metadata": {},
                    "output_type": "execute_result"
                }
            ],
            "source": "df_post_coord = pd.merge(df_post, data , left_on=\"Postcode\", right_on=\"Postal Code\")\n                \ndf_post_coord.head()"
        },
        {
            "cell_type": "code",
            "execution_count": 72,
            "metadata": {},
            "outputs": [
                {
                    "ename": "SyntaxError",
                    "evalue": "invalid syntax (<ipython-input-72-f5bbefbd4dab>, line 3)",
                    "output_type": "error",
                    "traceback": [
                        "\u001b[0;36m  File \u001b[0;32m\"<ipython-input-72-f5bbefbd4dab>\"\u001b[0;36m, line \u001b[0;32m3\u001b[0m\n\u001b[0;31m    data.Postal Code = data.Postal Code.astype(str)\u001b[0m\n\u001b[0m                   ^\u001b[0m\n\u001b[0;31mSyntaxError\u001b[0m\u001b[0;31m:\u001b[0m invalid syntax\n"
                    ]
                }
            ],
            "source": "\ndf_post.Postcode = df_post.Postcode.astype(str)\ndata.Postal Code = data.Postal Code.astype(str)"
        },
        {
            "cell_type": "code",
            "execution_count": 73,
            "metadata": {},
            "outputs": [],
            "source": "df_post.Postcode = df_post.Postcode.astype(str)"
        },
        {
            "cell_type": "code",
            "execution_count": 74,
            "metadata": {},
            "outputs": [
                {
                    "data": {
                        "text/html": "<div>\n<style scoped>\n    .dataframe tbody tr th:only-of-type {\n        vertical-align: middle;\n    }\n\n    .dataframe tbody tr th {\n        vertical-align: top;\n    }\n\n    .dataframe thead th {\n        text-align: right;\n    }\n</style>\n<table border=\"1\" class=\"dataframe\">\n  <thead>\n    <tr style=\"text-align: right;\">\n      <th></th>\n      <th>Postcode</th>\n      <th>Borough</th>\n      <th>Neighbourhood</th>\n      <th>Postal Code</th>\n      <th>Latitude</th>\n      <th>Longitude</th>\n    </tr>\n  </thead>\n  <tbody>\n  </tbody>\n</table>\n</div>",
                        "text/plain": "Empty DataFrame\nColumns: [Postcode, Borough, Neighbourhood, Postal Code, Latitude, Longitude]\nIndex: []"
                    },
                    "execution_count": 74,
                    "metadata": {},
                    "output_type": "execute_result"
                }
            ],
            "source": "df_post_coord = pd.merge(df_post, data , left_on=\"Postcode\", right_on=\"Postal Code\")\n                \ndf_post_coord.head()"
        },
        {
            "cell_type": "code",
            "execution_count": 76,
            "metadata": {},
            "outputs": [],
            "source": "data['Postal Code'] = data['Postal Code'].astype(str)"
        },
        {
            "cell_type": "code",
            "execution_count": 77,
            "metadata": {},
            "outputs": [],
            "source": " df_post_coord = pd.merge(df_post, data , left_on=\"Postcode\", right_on=\"Postal Code\")"
        },
        {
            "cell_type": "code",
            "execution_count": 78,
            "metadata": {},
            "outputs": [
                {
                    "data": {
                        "text/html": "<div>\n<style scoped>\n    .dataframe tbody tr th:only-of-type {\n        vertical-align: middle;\n    }\n\n    .dataframe tbody tr th {\n        vertical-align: top;\n    }\n\n    .dataframe thead th {\n        text-align: right;\n    }\n</style>\n<table border=\"1\" class=\"dataframe\">\n  <thead>\n    <tr style=\"text-align: right;\">\n      <th></th>\n      <th>Postcode</th>\n      <th>Borough</th>\n      <th>Neighbourhood</th>\n      <th>Postal Code</th>\n      <th>Latitude</th>\n      <th>Longitude</th>\n    </tr>\n  </thead>\n  <tbody>\n  </tbody>\n</table>\n</div>",
                        "text/plain": "Empty DataFrame\nColumns: [Postcode, Borough, Neighbourhood, Postal Code, Latitude, Longitude]\nIndex: []"
                    },
                    "execution_count": 78,
                    "metadata": {},
                    "output_type": "execute_result"
                }
            ],
            "source": " df_post_coord.head()"
        },
        {
            "cell_type": "code",
            "execution_count": 79,
            "metadata": {},
            "outputs": [
                {
                    "data": {
                        "text/html": "<div>\n<style scoped>\n    .dataframe tbody tr th:only-of-type {\n        vertical-align: middle;\n    }\n\n    .dataframe tbody tr th {\n        vertical-align: top;\n    }\n\n    .dataframe thead th {\n        text-align: right;\n    }\n</style>\n<table border=\"1\" class=\"dataframe\">\n  <thead>\n    <tr style=\"text-align: right;\">\n      <th></th>\n      <th>Postal Code</th>\n      <th>Latitude</th>\n      <th>Longitude</th>\n    </tr>\n  </thead>\n  <tbody>\n    <tr>\n      <th>0</th>\n      <td>M1B</td>\n      <td>43.806686</td>\n      <td>-79.194353</td>\n    </tr>\n    <tr>\n      <th>1</th>\n      <td>M1C</td>\n      <td>43.784535</td>\n      <td>-79.160497</td>\n    </tr>\n    <tr>\n      <th>2</th>\n      <td>M1E</td>\n      <td>43.763573</td>\n      <td>-79.188711</td>\n    </tr>\n    <tr>\n      <th>3</th>\n      <td>M1G</td>\n      <td>43.770992</td>\n      <td>-79.216917</td>\n    </tr>\n    <tr>\n      <th>4</th>\n      <td>M1H</td>\n      <td>43.773136</td>\n      <td>-79.239476</td>\n    </tr>\n  </tbody>\n</table>\n</div>",
                        "text/plain": "  Postal Code   Latitude  Longitude\n0         M1B  43.806686 -79.194353\n1         M1C  43.784535 -79.160497\n2         M1E  43.763573 -79.188711\n3         M1G  43.770992 -79.216917\n4         M1H  43.773136 -79.239476"
                    },
                    "execution_count": 79,
                    "metadata": {},
                    "output_type": "execute_result"
                }
            ],
            "source": "data.head()"
        },
        {
            "cell_type": "code",
            "execution_count": 80,
            "metadata": {},
            "outputs": [
                {
                    "data": {
                        "text/html": "<div>\n<style scoped>\n    .dataframe tbody tr th:only-of-type {\n        vertical-align: middle;\n    }\n\n    .dataframe tbody tr th {\n        vertical-align: top;\n    }\n\n    .dataframe thead th {\n        text-align: right;\n    }\n</style>\n<table border=\"1\" class=\"dataframe\">\n  <thead>\n    <tr style=\"text-align: right;\">\n      <th></th>\n      <th>Postcode</th>\n      <th>Borough</th>\n      <th>Neighbourhood</th>\n    </tr>\n  </thead>\n  <tbody>\n    <tr>\n      <th>0</th>\n      <td>M1B\\n</td>\n      <td>Scarborough\\n</td>\n      <td>Malvern / Rouge</td>\n    </tr>\n    <tr>\n      <th>1</th>\n      <td>M1C\\n</td>\n      <td>Scarborough\\n</td>\n      <td>Rouge Hill / Port Union / Highland Creek</td>\n    </tr>\n    <tr>\n      <th>2</th>\n      <td>M1E\\n</td>\n      <td>Scarborough\\n</td>\n      <td>Guildwood / Morningside / West Hill</td>\n    </tr>\n    <tr>\n      <th>3</th>\n      <td>M1G\\n</td>\n      <td>Scarborough\\n</td>\n      <td>Woburn</td>\n    </tr>\n    <tr>\n      <th>4</th>\n      <td>M1H\\n</td>\n      <td>Scarborough\\n</td>\n      <td>Cedarbrae</td>\n    </tr>\n  </tbody>\n</table>\n</div>",
                        "text/plain": "  Postcode        Borough                             Neighbourhood\n0    M1B\\n  Scarborough\\n                           Malvern / Rouge\n1    M1C\\n  Scarborough\\n  Rouge Hill / Port Union / Highland Creek\n2    M1E\\n  Scarborough\\n       Guildwood / Morningside / West Hill\n3    M1G\\n  Scarborough\\n                                    Woburn\n4    M1H\\n  Scarborough\\n                                 Cedarbrae"
                    },
                    "execution_count": 80,
                    "metadata": {},
                    "output_type": "execute_result"
                }
            ],
            "source": "df_post.head()\n"
        },
        {
            "cell_type": "code",
            "execution_count": 81,
            "metadata": {},
            "outputs": [],
            "source": "df_post = df_post.replace('\\n','', regex=True)"
        },
        {
            "cell_type": "code",
            "execution_count": 82,
            "metadata": {},
            "outputs": [
                {
                    "data": {
                        "text/html": "<div>\n<style scoped>\n    .dataframe tbody tr th:only-of-type {\n        vertical-align: middle;\n    }\n\n    .dataframe tbody tr th {\n        vertical-align: top;\n    }\n\n    .dataframe thead th {\n        text-align: right;\n    }\n</style>\n<table border=\"1\" class=\"dataframe\">\n  <thead>\n    <tr style=\"text-align: right;\">\n      <th></th>\n      <th>Postcode</th>\n      <th>Borough</th>\n      <th>Neighbourhood</th>\n    </tr>\n  </thead>\n  <tbody>\n    <tr>\n      <th>0</th>\n      <td>M1B</td>\n      <td>Scarborough</td>\n      <td>Malvern / Rouge</td>\n    </tr>\n    <tr>\n      <th>1</th>\n      <td>M1C</td>\n      <td>Scarborough</td>\n      <td>Rouge Hill / Port Union / Highland Creek</td>\n    </tr>\n    <tr>\n      <th>2</th>\n      <td>M1E</td>\n      <td>Scarborough</td>\n      <td>Guildwood / Morningside / West Hill</td>\n    </tr>\n    <tr>\n      <th>3</th>\n      <td>M1G</td>\n      <td>Scarborough</td>\n      <td>Woburn</td>\n    </tr>\n    <tr>\n      <th>4</th>\n      <td>M1H</td>\n      <td>Scarborough</td>\n      <td>Cedarbrae</td>\n    </tr>\n  </tbody>\n</table>\n</div>",
                        "text/plain": "  Postcode      Borough                             Neighbourhood\n0      M1B  Scarborough                           Malvern / Rouge\n1      M1C  Scarborough  Rouge Hill / Port Union / Highland Creek\n2      M1E  Scarborough       Guildwood / Morningside / West Hill\n3      M1G  Scarborough                                    Woburn\n4      M1H  Scarborough                                 Cedarbrae"
                    },
                    "execution_count": 82,
                    "metadata": {},
                    "output_type": "execute_result"
                }
            ],
            "source": "df_post.head()"
        },
        {
            "cell_type": "markdown",
            "metadata": {},
            "source": "## ---------------------------------------------------------------------------------------------------------------------------------------\n\n## Merging the Two DataFrames to display Latitude and Longitude"
        },
        {
            "cell_type": "code",
            "execution_count": 83,
            "metadata": {},
            "outputs": [
                {
                    "data": {
                        "text/html": "<div>\n<style scoped>\n    .dataframe tbody tr th:only-of-type {\n        vertical-align: middle;\n    }\n\n    .dataframe tbody tr th {\n        vertical-align: top;\n    }\n\n    .dataframe thead th {\n        text-align: right;\n    }\n</style>\n<table border=\"1\" class=\"dataframe\">\n  <thead>\n    <tr style=\"text-align: right;\">\n      <th></th>\n      <th>PostalCode</th>\n      <th>Borough</th>\n      <th>Neighbourhood</th>\n      <th>Latitude</th>\n      <th>Longitude</th>\n    </tr>\n  </thead>\n  <tbody>\n    <tr>\n      <th>0</th>\n      <td>M1B</td>\n      <td>Scarborough</td>\n      <td>Malvern / Rouge</td>\n      <td>43.806686</td>\n      <td>-79.194353</td>\n    </tr>\n    <tr>\n      <th>1</th>\n      <td>M1C</td>\n      <td>Scarborough</td>\n      <td>Rouge Hill / Port Union / Highland Creek</td>\n      <td>43.784535</td>\n      <td>-79.160497</td>\n    </tr>\n    <tr>\n      <th>2</th>\n      <td>M1E</td>\n      <td>Scarborough</td>\n      <td>Guildwood / Morningside / West Hill</td>\n      <td>43.763573</td>\n      <td>-79.188711</td>\n    </tr>\n    <tr>\n      <th>3</th>\n      <td>M1G</td>\n      <td>Scarborough</td>\n      <td>Woburn</td>\n      <td>43.770992</td>\n      <td>-79.216917</td>\n    </tr>\n    <tr>\n      <th>4</th>\n      <td>M1H</td>\n      <td>Scarborough</td>\n      <td>Cedarbrae</td>\n      <td>43.773136</td>\n      <td>-79.239476</td>\n    </tr>\n  </tbody>\n</table>\n</div>",
                        "text/plain": "  PostalCode      Borough                             Neighbourhood  \\\n0        M1B  Scarborough                           Malvern / Rouge   \n1        M1C  Scarborough  Rouge Hill / Port Union / Highland Creek   \n2        M1E  Scarborough       Guildwood / Morningside / West Hill   \n3        M1G  Scarborough                                    Woburn   \n4        M1H  Scarborough                                 Cedarbrae   \n\n    Latitude  Longitude  \n0  43.806686 -79.194353  \n1  43.784535 -79.160497  \n2  43.763573 -79.188711  \n3  43.770992 -79.216917  \n4  43.773136 -79.239476  "
                    },
                    "execution_count": 83,
                    "metadata": {},
                    "output_type": "execute_result"
                }
            ],
            "source": "df_post_coord = (pd.merge(df_post, data, left_on=\"Postcode\", right_on=\"Postal Code\")\n                   .drop(\"Postal Code\", axis=1)\n                   .rename(columns={\"Postcode\":\"PostalCode\"}))\n\ndf_post_coord.head()"
        },
        {
            "cell_type": "markdown",
            "metadata": {},
            "source": "## ----------------------------------------------------------------------------------------------------------------------------------------------------------------------\n\n## Explore and cluster the neighborhoods in Toronto. You can decide to work with only boroughs that contain the word Toronto and then replicate the same analysis we did to the New York City data. "
        },
        {
            "cell_type": "code",
            "execution_count": 84,
            "metadata": {},
            "outputs": [
                {
                    "data": {
                        "text/plain": "(39, 5)"
                    },
                    "execution_count": 84,
                    "metadata": {},
                    "output_type": "execute_result"
                }
            ],
            "source": "df_toronto = df_post_coord[df_post_coord['Borough'].str.contains('Toronto')]\n\ndf_toronto.shape"
        },
        {
            "cell_type": "code",
            "execution_count": 85,
            "metadata": {},
            "outputs": [
                {
                    "name": "stdout",
                    "output_type": "stream",
                    "text": "Requirement already satisfied: folium in /opt/conda/envs/Python36/lib/python3.6/site-packages (0.10.1)\r\nRequirement already satisfied: requests in /opt/conda/envs/Python36/lib/python3.6/site-packages (from folium) (2.21.0)\r\nRequirement already satisfied: branca>=0.3.0 in /opt/conda/envs/Python36/lib/python3.6/site-packages (from folium) (0.4.0)\r\nRequirement already satisfied: numpy in /opt/conda/envs/Python36/lib/python3.6/site-packages (from folium) (1.15.4)\r\nRequirement already satisfied: jinja2>=2.9 in /opt/conda/envs/Python36/lib/python3.6/site-packages (from folium) (2.10)\r\nRequirement already satisfied: urllib3<1.25,>=1.21.1 in /opt/conda/envs/Python36/lib/python3.6/site-packages (from requests->folium) (1.24.1)\r\nRequirement already satisfied: chardet<3.1.0,>=3.0.2 in /opt/conda/envs/Python36/lib/python3.6/site-packages (from requests->folium) (3.0.4)\r\nRequirement already satisfied: idna<2.9,>=2.5 in /opt/conda/envs/Python36/lib/python3.6/site-packages (from requests->folium) (2.8)\r\nRequirement already satisfied: certifi>=2017.4.17 in /opt/conda/envs/Python36/lib/python3.6/site-packages (from requests->folium) (2019.11.28)\r\nRequirement already satisfied: six in /opt/conda/envs/Python36/lib/python3.6/site-packages (from branca>=0.3.0->folium) (1.12.0)\r\nRequirement already satisfied: MarkupSafe>=0.23 in /opt/conda/envs/Python36/lib/python3.6/site-packages (from jinja2>=2.9->folium) (1.1.0)\r\n"
                }
            ],
            "source": "! pip install folium"
        },
        {
            "cell_type": "code",
            "execution_count": 86,
            "metadata": {},
            "outputs": [
                {
                    "data": {
                        "text/html": "<div style=\"width:100%;\"><div style=\"position:relative;width:100%;height:0;padding-bottom:60%;\"><iframe src=\"about:blank\" style=\"position:absolute;width:100%;height:100%;left:0;top:0;border:none !important;\" data-html=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 onload=\"this.contentDocument.open();this.contentDocument.write(atob(this.getAttribute('data-html')));this.contentDocument.close();\" allowfullscreen webkitallowfullscreen mozallowfullscreen></iframe></div></div>",
                        "text/plain": "<folium.folium.Map at 0x7f81cc64a630>"
                    },
                    "execution_count": 86,
                    "metadata": {},
                    "output_type": "execute_result"
                }
            ],
            "source": "\nnh_map = folium.Map(location=(43.6815,-79.5284), zoom_start=11)\n\nfor i, nh in df_toronto.iterrows():\n    folium.Circle(\n        radius=500,\n        location=[nh['Latitude'], nh['Longitude']],\n        popup=nh['Neighbourhood'],\n        color='crimson',\n        fill=False,\n    ).add_to(nh_map)\n    \nnh_map"
        },
        {
            "cell_type": "markdown",
            "metadata": {},
            "source": "### Assignment from Week3 Complete !!!"
        },
        {
            "cell_type": "code",
            "execution_count": null,
            "metadata": {},
            "outputs": [],
            "source": ""
        }
    ],
    "metadata": {
        "kernelspec": {
            "display_name": "Python 3.6",
            "language": "python",
            "name": "python3"
        },
        "language_info": {
            "codemirror_mode": {
                "name": "ipython",
                "version": 3
            },
            "file_extension": ".py",
            "mimetype": "text/x-python",
            "name": "python",
            "nbconvert_exporter": "python",
            "pygments_lexer": "ipython3",
            "version": "3.6.9"
        }
    },
    "nbformat": 4,
    "nbformat_minor": 1
}